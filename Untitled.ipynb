{
 "cells": [
  {
   "cell_type": "code",
   "execution_count": null,
   "id": "5889b914-5100-4795-84e7-fa71cfb41ce9",
   "metadata": {},
   "outputs": [],
   "source": [
    "import os\n",
    "import gc\n",
    "from glob import glob\n",
    "from pathlib import Path\n",
    "from datetime import datetime\n",
    "import numpy as np\n",
    "import pandas as pd\n",
    "import polars as pl\n",
    "import matplotlib.pyplot as plt\n",
    "import seaborn as sns\n",
    "import joblib\n",
    "import lightgbm as lgb\n",
    "\n",
    "from sklearn.model_selection import StratifiedGroupKFold\n",
    "from sklearn.metrics import roc_auc_score\n",
    "from sklearn.ensemble import VotingClassifier\n",
    "from sklearn.preprocessing import LabelEncoder\n",
    "\n",
    "import warnings\n",
    "warnings.simplefilter(action='ignore', category=FutureWarning)\n",
    "\n",
    "import exploratory_data_analysis as data_nb\n",
    "from exploratory_data_analysis import Aggregator\n",
    "\n",
    "data_nb.Aggregator.group_aggregators = [pl.n_unique] #pl.max, pl.min, \n",
    "# data_nb.Aggregator.str_aggregators = [pl.max, pl.min, pl.first, pl.last, pl.n_unique]\n",
    "# train_df = data_nb.prepare_df(data_nb.CFG.train_dir)\n",
    "base_files = [\n",
    "    \"_static_cb_0.parquet\",\n",
    "    \"_static_0_*.parquet\",\n",
    "    \"_applprev_1_*.parquet\",\n",
    "    \"_tax_registry_a_1.parquet\",\n",
    "    \"_tax_registry_b_1.parquet\",\n",
    "    \"_tax_registry_c_1.parquet\",\n",
    "    \"_other_1.parquet\",\n",
    "    \"_person_1.parquet\",\n",
    "    \"_deposit_1.parquet\",\n",
    "    \"_debitcard_1.parquet\",\n",
    "    \"_credit_bureau_b_1.parquet\",\n",
    "    \"_credit_bureau_b_2.parquet\",\n",
    "]\n",
    "base_agg = Aggregator(\n",
    "    num_aggregators = [pl.max, pl.min, pl.first, pl.last, pl.mean],\n",
    "    str_aggregators = [pl.max, pl.min, pl.first, pl.last],\n",
    "    group_aggregators = [pl.max, pl.min, pl.first, pl.last],\n",
    "    str_mode = True\n",
    ")\n",
    "breakpoint()\n",
    "train_df = data_nb.prepare_df(base_files, data_nb.CFG.train_dir, base_agg)\n",
    "\n",
    "# train_df = pd.read_parquet('/kaggle/usr/lib/home_credit_baseline_data/train_full.parquet')\n",
    "cat_cols = list(train_df.select_dtypes(\"category\").columns)\n",
    "print(train_df.describe())"
   ]
  },
  {
   "cell_type": "code",
   "execution_count": null,
   "id": "00598f20-fb93-446b-8f3d-67b6b935d8af",
   "metadata": {},
   "outputs": [],
   "source": []
  }
 ],
 "metadata": {
  "kernelspec": {
   "display_name": "my_env",
   "language": "python",
   "name": "my_env"
  },
  "language_info": {
   "codemirror_mode": {
    "name": "ipython",
    "version": 3
   },
   "file_extension": ".py",
   "mimetype": "text/x-python",
   "name": "python",
   "nbconvert_exporter": "python",
   "pygments_lexer": "ipython3",
   "version": "3.11.7"
  }
 },
 "nbformat": 4,
 "nbformat_minor": 5
}
